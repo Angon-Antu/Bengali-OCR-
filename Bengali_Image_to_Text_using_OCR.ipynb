{
  "cells": [
    {
      "cell_type": "code",
      "execution_count": null,
      "metadata": {
        "id": "zYmFn-IrenQf"
      },
      "outputs": [],
      "source": [
        "!pip install easyocr\n",
        "!pip install torch\n"
      ]
    },
    {
      "cell_type": "code",
      "execution_count": null,
      "metadata": {
        "colab": {
          "background_save": true
        },
        "id": "x-O2aiAoewxm",
        "outputId": "9d685ccb-4344-4069-eb58-6edef3d93ad3"
      },
      "outputs": [
        {
          "name": "stdout",
          "output_type": "stream",
          "text": [
            "All recognized texts have been written to: /content/all_recognized_texts.txt\n"
          ]
        }
      ],
      "source": [
        "import easyocr\n",
        "import os\n",
        "\n",
        "# Initialize the reader with 'bn' for Bengali language\n",
        "reader = easyocr.Reader(['bn'], gpu=True)  # This needs to run only once to load the model into memory\n",
        "\n",
        "# Specify the folder path containing the images\n",
        "folder_path = '/content/drive/MyDrive/News/Secondary - (B.Version.) 2022 - Class-8 krishi  Sikkah COM OPT'\n",
        "\n",
        "# Get a list of all image files in the folder\n",
        "image_files = [file for file in os.listdir(folder_path) if file.lower().endswith(('.png', '.jpg', '.jpeg', '.gif', '.bmp'))]\n",
        "\n",
        "# Create a list to store all recognized text strings\n",
        "all_recognized_texts = []\n",
        "\n",
        "# Loop through each image file\n",
        "for image_file in image_files:\n",
        "    # Form the complete path to the image\n",
        "    image_path = os.path.join(folder_path, image_file)\n",
        "\n",
        "    # Perform text recognition on the current image\n",
        "    result = reader.readtext(image_path)\n",
        "\n",
        "    # Extract only the recognized text strings\n",
        "    recognized_texts = [entry[1] for entry in result]\n",
        "\n",
        "    # Join the recognized text strings into a single string\n",
        "    output_text = ' '.join(recognized_texts)\n",
        "\n",
        "    # Append the current recognized text to the list\n",
        "    all_recognized_texts.append(output_text)\n",
        "\n",
        "# Join all recognized texts into a single string\n",
        "final_output_text = '\\n'.join(all_recognized_texts)\n",
        "\n",
        "# Write the final output to a text file\n",
        "output_file_path = '/content/all_recognized_texts.txt'\n",
        "with open(output_file_path, 'w', encoding='utf-8') as output_file:\n",
        "    output_file.write(final_output_text)\n",
        "\n",
        "print(f\"All recognized texts have been written to: {output_file_path}\")\n"
      ]
    }
  ],
  "metadata": {
    "accelerator": "GPU",
    "colab": {
      "provenance": []
    },
    "kernelspec": {
      "display_name": "Python 3",
      "name": "python3"
    },
    "language_info": {
      "name": "python"
    }
  },
  "nbformat": 4,
  "nbformat_minor": 0
}